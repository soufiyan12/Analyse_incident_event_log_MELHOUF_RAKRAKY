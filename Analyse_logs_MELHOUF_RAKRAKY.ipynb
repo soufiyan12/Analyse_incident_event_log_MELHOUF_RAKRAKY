{
 "cells": [
  {
   "cell_type": "code",
   "execution_count": 235,
   "id": "c5ae1a97",
   "metadata": {},
   "outputs": [],
   "source": [
    "#preprocessing data\n",
    "import numpy as np\n",
    "import matplotlib.pyplot as plt\n",
    "from pandas.plotting import scatter_matrix\n",
    "import pandas as pd\n",
    "import seaborn as sns\n",
    "from sklearn import preprocessing\n",
    "from sklearn.compose import ColumnTransformer\n",
    "from sklearn.preprocessing import OrdinalEncoder\n",
    "from sklearn.model_selection import train_test_split\n",
    "from datetime import datetime"
   ]
  },
  {
   "cell_type": "code",
   "execution_count": 236,
   "id": "50dfcccc",
   "metadata": {},
   "outputs": [],
   "source": [
    "dataset = pd.read_csv('incident_event_log.csv')"
   ]
  },
  {
   "cell_type": "code",
   "execution_count": 237,
   "id": "e5f3156a",
   "metadata": {},
   "outputs": [
    {
     "name": "stdout",
     "output_type": "stream",
     "text": [
      "<class 'pandas.core.frame.DataFrame'>\n",
      "RangeIndex: 141712 entries, 0 to 141711\n",
      "Data columns (total 36 columns):\n",
      " #   Column                   Non-Null Count   Dtype \n",
      "---  ------                   --------------   ----- \n",
      " 0   number                   141712 non-null  object\n",
      " 1   incident_state           141712 non-null  object\n",
      " 2   active                   141712 non-null  bool  \n",
      " 3   reassignment_count       141712 non-null  int64 \n",
      " 4   reopen_count             141712 non-null  int64 \n",
      " 5   sys_mod_count            141712 non-null  int64 \n",
      " 6   made_sla                 141712 non-null  bool  \n",
      " 7   caller_id                141712 non-null  object\n",
      " 8   opened_by                141712 non-null  object\n",
      " 9   opened_at                141712 non-null  object\n",
      " 10  sys_created_by           141712 non-null  object\n",
      " 11  sys_created_at           141712 non-null  object\n",
      " 12  sys_updated_by           141712 non-null  object\n",
      " 13  sys_updated_at           141712 non-null  object\n",
      " 14  contact_type             141712 non-null  object\n",
      " 15  location                 141712 non-null  object\n",
      " 16  category                 141712 non-null  object\n",
      " 17  subcategory              141712 non-null  object\n",
      " 18  u_symptom                141712 non-null  object\n",
      " 19  cmdb_ci                  141712 non-null  object\n",
      " 20  impact                   141712 non-null  object\n",
      " 21  urgency                  141712 non-null  object\n",
      " 22  priority                 141712 non-null  object\n",
      " 23  assignment_group         141712 non-null  object\n",
      " 24  assigned_to              141712 non-null  object\n",
      " 25  knowledge                141712 non-null  bool  \n",
      " 26  u_priority_confirmation  141712 non-null  bool  \n",
      " 27  notify                   141712 non-null  object\n",
      " 28  problem_id               141712 non-null  object\n",
      " 29  rfc                      141712 non-null  object\n",
      " 30  vendor                   141712 non-null  object\n",
      " 31  caused_by                141712 non-null  object\n",
      " 32  closed_code              141712 non-null  object\n",
      " 33  resolved_by              141712 non-null  object\n",
      " 34  resolved_at              141712 non-null  object\n",
      " 35  closed_at                141712 non-null  object\n",
      "dtypes: bool(4), int64(3), object(29)\n",
      "memory usage: 35.1+ MB\n"
     ]
    }
   ],
   "source": [
    "dataset.info()"
   ]
  },
  {
   "cell_type": "markdown",
   "id": "be94d352",
   "metadata": {},
   "source": [
    "## Pré-Processing"
   ]
  },
  {
   "cell_type": "code",
   "execution_count": 238,
   "id": "1a7aec2c",
   "metadata": {},
   "outputs": [],
   "source": [
    "#eliminer tous les attributs qu'on pas d'interet pour notre analyse\n",
    "columns_to_drop = {'reassignment_count', 'reopen_count', 'sys_mod_count','sys_created_at', 'sys_updated_at','contact_type','cmdb_ci','impact','urgency','notify','problem_id','rfc','vendor','caused_by','closed_code','resolved_by','resolved_at'}\n",
    "datasetV1 = dataset.drop(columns= columns_to_drop)\n",
    "#data to calculate THE time resolution we need two attribute 'opened_at' 'closed_at'\n"
   ]
  },
  {
   "cell_type": "code",
   "execution_count": 239,
   "id": "a6ee0207",
   "metadata": {},
   "outputs": [],
   "source": [
    "#Taking care of missing data\n",
    "#remplacer le signe'?' par des nan 'not a number'\n",
    "datasetV1 = datasetV1.replace('?',np.nan)\n",
    "datasetV2=datasetV1.dropna( axis=0,how='any')"
   ]
  },
  {
   "cell_type": "code",
   "execution_count": 240,
   "id": "484e9267",
   "metadata": {},
   "outputs": [],
   "source": [
    "#eliminer tous les attributs qu'on pas d'interet pour notre analyse\n",
    "columns_to_drop1 = {'active','caller_id','made_sla','sys_created_by','sys_updated_by','location','subcategory','u_symptom','knowledge','u_priority_confirmation'}\n",
    "datasetV3 = datasetV2.drop(columns= columns_to_drop1)"
   ]
  },
  {
   "cell_type": "code",
   "execution_count": 241,
   "id": "e669d151",
   "metadata": {},
   "outputs": [
    {
     "name": "stdout",
     "output_type": "stream",
     "text": [
      "<class 'pandas.core.frame.DataFrame'>\n",
      "Int64Index: 53762 entries, 4 to 141426\n",
      "Data columns (total 9 columns):\n",
      " #   Column            Non-Null Count  Dtype \n",
      "---  ------            --------------  ----- \n",
      " 0   number            53762 non-null  object\n",
      " 1   incident_state    53762 non-null  object\n",
      " 2   opened_by         53762 non-null  object\n",
      " 3   opened_at         53762 non-null  object\n",
      " 4   category          53762 non-null  object\n",
      " 5   priority          53762 non-null  object\n",
      " 6   assignment_group  53762 non-null  object\n",
      " 7   assigned_to       53762 non-null  object\n",
      " 8   closed_at         53762 non-null  object\n",
      "dtypes: object(9)\n",
      "memory usage: 4.1+ MB\n"
     ]
    }
   ],
   "source": [
    "datasetV3.info()"
   ]
  },
  {
   "cell_type": "markdown",
   "id": "3c714661",
   "metadata": {},
   "source": [
    "# Visualisation de données pour 7 attributs"
   ]
  },
  {
   "cell_type": "code",
   "execution_count": 242,
   "id": "c0fa1647",
   "metadata": {},
   "outputs": [
    {
     "data": {
      "text/html": [
       "<div>\n",
       "<style scoped>\n",
       "    .dataframe tbody tr th:only-of-type {\n",
       "        vertical-align: middle;\n",
       "    }\n",
       "\n",
       "    .dataframe tbody tr th {\n",
       "        vertical-align: top;\n",
       "    }\n",
       "\n",
       "    .dataframe thead th {\n",
       "        text-align: right;\n",
       "    }\n",
       "</style>\n",
       "<table border=\"1\" class=\"dataframe\">\n",
       "  <thead>\n",
       "    <tr style=\"text-align: right;\">\n",
       "      <th></th>\n",
       "      <th>number</th>\n",
       "      <th>incident_state</th>\n",
       "      <th>opened_by</th>\n",
       "      <th>opened_at</th>\n",
       "      <th>category</th>\n",
       "      <th>priority</th>\n",
       "      <th>assignment_group</th>\n",
       "      <th>assigned_to</th>\n",
       "      <th>closed_at</th>\n",
       "    </tr>\n",
       "  </thead>\n",
       "  <tbody>\n",
       "    <tr>\n",
       "      <th>4</th>\n",
       "      <td>INC0000047</td>\n",
       "      <td>New</td>\n",
       "      <td>Opened by  397</td>\n",
       "      <td>29/02/2016 04:40</td>\n",
       "      <td>Category 40</td>\n",
       "      <td>3 - Moderate</td>\n",
       "      <td>Group 70</td>\n",
       "      <td>Resolver 89</td>\n",
       "      <td>06/03/2016 10:00</td>\n",
       "    </tr>\n",
       "    <tr>\n",
       "      <th>5</th>\n",
       "      <td>INC0000047</td>\n",
       "      <td>Active</td>\n",
       "      <td>Opened by  397</td>\n",
       "      <td>29/02/2016 04:40</td>\n",
       "      <td>Category 40</td>\n",
       "      <td>3 - Moderate</td>\n",
       "      <td>Group 24</td>\n",
       "      <td>Resolver 31</td>\n",
       "      <td>06/03/2016 10:00</td>\n",
       "    </tr>\n",
       "    <tr>\n",
       "      <th>6</th>\n",
       "      <td>INC0000047</td>\n",
       "      <td>Active</td>\n",
       "      <td>Opened by  397</td>\n",
       "      <td>29/02/2016 04:40</td>\n",
       "      <td>Category 40</td>\n",
       "      <td>3 - Moderate</td>\n",
       "      <td>Group 24</td>\n",
       "      <td>Resolver 31</td>\n",
       "      <td>06/03/2016 10:00</td>\n",
       "    </tr>\n",
       "    <tr>\n",
       "      <th>7</th>\n",
       "      <td>INC0000047</td>\n",
       "      <td>Active</td>\n",
       "      <td>Opened by  397</td>\n",
       "      <td>29/02/2016 04:40</td>\n",
       "      <td>Category 40</td>\n",
       "      <td>3 - Moderate</td>\n",
       "      <td>Group 24</td>\n",
       "      <td>Resolver 31</td>\n",
       "      <td>06/03/2016 10:00</td>\n",
       "    </tr>\n",
       "    <tr>\n",
       "      <th>8</th>\n",
       "      <td>INC0000047</td>\n",
       "      <td>Active</td>\n",
       "      <td>Opened by  397</td>\n",
       "      <td>29/02/2016 04:40</td>\n",
       "      <td>Category 40</td>\n",
       "      <td>3 - Moderate</td>\n",
       "      <td>Group 24</td>\n",
       "      <td>Resolver 31</td>\n",
       "      <td>06/03/2016 10:00</td>\n",
       "    </tr>\n",
       "    <tr>\n",
       "      <th>9</th>\n",
       "      <td>INC0000047</td>\n",
       "      <td>Active</td>\n",
       "      <td>Opened by  397</td>\n",
       "      <td>29/02/2016 04:40</td>\n",
       "      <td>Category 40</td>\n",
       "      <td>3 - Moderate</td>\n",
       "      <td>Group 24</td>\n",
       "      <td>Resolver 31</td>\n",
       "      <td>06/03/2016 10:00</td>\n",
       "    </tr>\n",
       "    <tr>\n",
       "      <th>10</th>\n",
       "      <td>INC0000047</td>\n",
       "      <td>Awaiting User Info</td>\n",
       "      <td>Opened by  397</td>\n",
       "      <td>29/02/2016 04:40</td>\n",
       "      <td>Category 40</td>\n",
       "      <td>3 - Moderate</td>\n",
       "      <td>Group 24</td>\n",
       "      <td>Resolver 89</td>\n",
       "      <td>06/03/2016 10:00</td>\n",
       "    </tr>\n",
       "    <tr>\n",
       "      <th>11</th>\n",
       "      <td>INC0000047</td>\n",
       "      <td>Resolved</td>\n",
       "      <td>Opened by  397</td>\n",
       "      <td>29/02/2016 04:40</td>\n",
       "      <td>Category 40</td>\n",
       "      <td>3 - Moderate</td>\n",
       "      <td>Group 24</td>\n",
       "      <td>Resolver 89</td>\n",
       "      <td>06/03/2016 10:00</td>\n",
       "    </tr>\n",
       "    <tr>\n",
       "      <th>12</th>\n",
       "      <td>INC0000047</td>\n",
       "      <td>Closed</td>\n",
       "      <td>Opened by  397</td>\n",
       "      <td>29/02/2016 04:40</td>\n",
       "      <td>Category 40</td>\n",
       "      <td>3 - Moderate</td>\n",
       "      <td>Group 24</td>\n",
       "      <td>Resolver 89</td>\n",
       "      <td>06/03/2016 10:00</td>\n",
       "    </tr>\n",
       "    <tr>\n",
       "      <th>20</th>\n",
       "      <td>INC0000060</td>\n",
       "      <td>New</td>\n",
       "      <td>Opened by  180</td>\n",
       "      <td>29/02/2016 06:38</td>\n",
       "      <td>Category 9</td>\n",
       "      <td>3 - Moderate</td>\n",
       "      <td>Group 25</td>\n",
       "      <td>Resolver 125</td>\n",
       "      <td>07/03/2016 13:00</td>\n",
       "    </tr>\n",
       "  </tbody>\n",
       "</table>\n",
       "</div>"
      ],
      "text/plain": [
       "        number      incident_state       opened_by         opened_at  \\\n",
       "4   INC0000047                 New  Opened by  397  29/02/2016 04:40   \n",
       "5   INC0000047              Active  Opened by  397  29/02/2016 04:40   \n",
       "6   INC0000047              Active  Opened by  397  29/02/2016 04:40   \n",
       "7   INC0000047              Active  Opened by  397  29/02/2016 04:40   \n",
       "8   INC0000047              Active  Opened by  397  29/02/2016 04:40   \n",
       "9   INC0000047              Active  Opened by  397  29/02/2016 04:40   \n",
       "10  INC0000047  Awaiting User Info  Opened by  397  29/02/2016 04:40   \n",
       "11  INC0000047            Resolved  Opened by  397  29/02/2016 04:40   \n",
       "12  INC0000047              Closed  Opened by  397  29/02/2016 04:40   \n",
       "20  INC0000060                 New  Opened by  180  29/02/2016 06:38   \n",
       "\n",
       "       category      priority assignment_group   assigned_to         closed_at  \n",
       "4   Category 40  3 - Moderate         Group 70   Resolver 89  06/03/2016 10:00  \n",
       "5   Category 40  3 - Moderate         Group 24   Resolver 31  06/03/2016 10:00  \n",
       "6   Category 40  3 - Moderate         Group 24   Resolver 31  06/03/2016 10:00  \n",
       "7   Category 40  3 - Moderate         Group 24   Resolver 31  06/03/2016 10:00  \n",
       "8   Category 40  3 - Moderate         Group 24   Resolver 31  06/03/2016 10:00  \n",
       "9   Category 40  3 - Moderate         Group 24   Resolver 31  06/03/2016 10:00  \n",
       "10  Category 40  3 - Moderate         Group 24   Resolver 89  06/03/2016 10:00  \n",
       "11  Category 40  3 - Moderate         Group 24   Resolver 89  06/03/2016 10:00  \n",
       "12  Category 40  3 - Moderate         Group 24   Resolver 89  06/03/2016 10:00  \n",
       "20   Category 9  3 - Moderate         Group 25  Resolver 125  07/03/2016 13:00  "
      ]
     },
     "execution_count": 242,
     "metadata": {},
     "output_type": "execute_result"
    }
   ],
   "source": [
    "datasetV3.head(10)\n",
    "#number selct the last one or 2 or 3\n",
    "#code "
   ]
  },
  {
   "cell_type": "markdown",
   "id": "6f617404",
   "metadata": {},
   "source": [
    "## redandance de lignes on voit que numbre INC0000047 se reperte 9 fois\n",
    "\n",
    "Faire un code pour selectionner just un ligne ou deux .. "
   ]
  },
  {
   "cell_type": "code",
   "execution_count": 243,
   "id": "aac5d1fb",
   "metadata": {},
   "outputs": [],
   "source": [
    "#datasetV3 = datasetV3.drop_duplicates(subset='number', keep=\"last\")"
   ]
  },
  {
   "cell_type": "code",
   "execution_count": 244,
   "id": "afbc6186",
   "metadata": {},
   "outputs": [],
   "source": [
    "def Horizon(H,dataset,Attribute):\n",
    "    #select all duplicate 'number' values\n",
    "    number_duplicate=[col for col in dataset[Attribute]]\n",
    "    number=list(dict.fromkeys(number_duplicate))\n",
    "\n",
    "    #reset the index for the dataset\n",
    "    dataset=dataset.reset_index(drop=True)\n",
    "\n",
    "    count=0\n",
    "    result=pd.DataFrame()\n",
    "    for i in range(len(number)):\n",
    "        c=dataset[(dataset[Attribute]==number[i])]\n",
    "        count+=len(c)\n",
    "        #print(count)\n",
    "        subset=c.loc[count-H:count, :]\n",
    "        #print(subset)\n",
    "        result=result.append(subset)\n",
    "    return result"
   ]
  },
  {
   "cell_type": "code",
   "execution_count": 245,
   "id": "4f233105",
   "metadata": {},
   "outputs": [],
   "source": [
    "DatasetV4=Horizon(2,datasetV3,'number')"
   ]
  },
  {
   "cell_type": "code",
   "execution_count": 246,
   "id": "3308a3ef",
   "metadata": {},
   "outputs": [],
   "source": [
    "#TAKE JUST CLOSED INCIDENT \n",
    "#datasetV3= datasetV3.loc[datasetV3['incident_state'] == 'Closed'].reset_index().drop(columns={'index'})"
   ]
  },
  {
   "cell_type": "code",
   "execution_count": 247,
   "id": "c0231bbe",
   "metadata": {},
   "outputs": [
    {
     "data": {
      "text/html": [
       "<div>\n",
       "<style scoped>\n",
       "    .dataframe tbody tr th:only-of-type {\n",
       "        vertical-align: middle;\n",
       "    }\n",
       "\n",
       "    .dataframe tbody tr th {\n",
       "        vertical-align: top;\n",
       "    }\n",
       "\n",
       "    .dataframe thead th {\n",
       "        text-align: right;\n",
       "    }\n",
       "</style>\n",
       "<table border=\"1\" class=\"dataframe\">\n",
       "  <thead>\n",
       "    <tr style=\"text-align: right;\">\n",
       "      <th></th>\n",
       "      <th>number</th>\n",
       "      <th>incident_state</th>\n",
       "      <th>opened_by</th>\n",
       "      <th>opened_at</th>\n",
       "      <th>category</th>\n",
       "      <th>priority</th>\n",
       "      <th>assignment_group</th>\n",
       "      <th>assigned_to</th>\n",
       "      <th>closed_at</th>\n",
       "    </tr>\n",
       "  </thead>\n",
       "  <tbody>\n",
       "    <tr>\n",
       "      <th>7</th>\n",
       "      <td>INC0000047</td>\n",
       "      <td>Resolved</td>\n",
       "      <td>Opened by  397</td>\n",
       "      <td>29/02/2016 04:40</td>\n",
       "      <td>Category 40</td>\n",
       "      <td>3 - Moderate</td>\n",
       "      <td>Group 24</td>\n",
       "      <td>Resolver 89</td>\n",
       "      <td>06/03/2016 10:00</td>\n",
       "    </tr>\n",
       "    <tr>\n",
       "      <th>8</th>\n",
       "      <td>INC0000047</td>\n",
       "      <td>Closed</td>\n",
       "      <td>Opened by  397</td>\n",
       "      <td>29/02/2016 04:40</td>\n",
       "      <td>Category 40</td>\n",
       "      <td>3 - Moderate</td>\n",
       "      <td>Group 24</td>\n",
       "      <td>Resolver 89</td>\n",
       "      <td>06/03/2016 10:00</td>\n",
       "    </tr>\n",
       "  </tbody>\n",
       "</table>\n",
       "</div>"
      ],
      "text/plain": [
       "       number incident_state       opened_by         opened_at     category  \\\n",
       "7  INC0000047       Resolved  Opened by  397  29/02/2016 04:40  Category 40   \n",
       "8  INC0000047         Closed  Opened by  397  29/02/2016 04:40  Category 40   \n",
       "\n",
       "       priority assignment_group  assigned_to         closed_at  \n",
       "7  3 - Moderate         Group 24  Resolver 89  06/03/2016 10:00  \n",
       "8  3 - Moderate         Group 24  Resolver 89  06/03/2016 10:00  "
      ]
     },
     "execution_count": 247,
     "metadata": {},
     "output_type": "execute_result"
    }
   ],
   "source": [
    "DatasetV4.head(2)"
   ]
  },
  {
   "cell_type": "markdown",
   "id": "26da08b8",
   "metadata": {},
   "source": [
    "## Encodage et normalisation\n",
    "\n",
    "On encode toutes les données dont la colonne est un objet, ceci va nous permettre de savoir si l'on doit classifier la donnée après avoir effectué nos regressions car il est possible ces colonnes classées en catégorie aient avoir un impacte sur le temps d'execution d'un ticket"
   ]
  },
  {
   "cell_type": "code",
   "execution_count": 248,
   "id": "f4845b1b",
   "metadata": {},
   "outputs": [],
   "source": [
    "priority_mapping = {'1 - Critical':1,'2 - High':2,'3 - Moderate':3,'4 - Low':4}\n",
    "DatasetV4[\"priority\"].replace(priority_mapping,inplace= True)\n",
    "DatasetV4[\"priority\"] = DatasetV4[\"priority\"].astype(int)"
   ]
  },
  {
   "cell_type": "code",
   "execution_count": 249,
   "id": "fd83452c",
   "metadata": {},
   "outputs": [],
   "source": [
    "categorical = [col for col in DatasetV4.columns if DatasetV4[col].dtype==object]\n",
    "numerical = [col for col in DatasetV4.columns if DatasetV4[col].dtype!=object]"
   ]
  },
  {
   "cell_type": "code",
   "execution_count": 250,
   "id": "db15a3e2",
   "metadata": {},
   "outputs": [
    {
     "name": "stdout",
     "output_type": "stream",
     "text": [
      "['number', 'incident_state', 'opened_by', 'opened_at', 'category', 'assignment_group', 'assigned_to', 'closed_at']\n"
     ]
    }
   ],
   "source": [
    "print(categorical)"
   ]
  },
  {
   "cell_type": "code",
   "execution_count": 251,
   "id": "cb569c56",
   "metadata": {},
   "outputs": [
    {
     "name": "stdout",
     "output_type": "stream",
     "text": [
      "['priority']\n"
     ]
    }
   ],
   "source": [
    "print(numerical)"
   ]
  },
  {
   "cell_type": "code",
   "execution_count": 252,
   "id": "aa456820",
   "metadata": {},
   "outputs": [],
   "source": [
    "#web site ::: https://www.geeksforgeeks.org/ml-label-encoding-of-datasets-in-python/\n",
    "# label_encoder object knows how to understand word labels.\n",
    "label_encoder = preprocessing.LabelEncoder()\n",
    " \n",
    "# Encode labels in column 'category'.\n",
    "DatasetV4['category']= label_encoder.fit_transform(DatasetV4['category'])\n",
    "DatasetV4['opened_by']= label_encoder.fit_transform(DatasetV4['opened_by'])\n",
    "DatasetV4['number']= label_encoder.fit_transform(DatasetV4['number'])\n",
    "DatasetV4['assignment_group']= label_encoder.fit_transform(DatasetV4['assignment_group'])\n",
    "DatasetV4['assigned_to']= label_encoder.fit_transform(DatasetV4['assigned_to'])\n",
    "DatasetV4['incident_state']= label_encoder.fit_transform(DatasetV4['incident_state'])"
   ]
  },
  {
   "cell_type": "code",
   "execution_count": 253,
   "id": "587951e5",
   "metadata": {},
   "outputs": [],
   "source": [
    "#DatasetV4 = DatasetV4.drop(columns='incident_state')"
   ]
  },
  {
   "cell_type": "code",
   "execution_count": 254,
   "id": "45940aea",
   "metadata": {},
   "outputs": [
    {
     "name": "stdout",
     "output_type": "stream",
     "text": [
      "(18590, 9)\n",
      "              number  incident_state     opened_by         opened_at  \\\n",
      "count   18590.000000    18590.000000  18590.000000             18590   \n",
      "unique           NaN             NaN           NaN              8688   \n",
      "top              NaN             NaN           NaN  05/04/2016 15:52   \n",
      "freq             NaN             NaN           NaN                10   \n",
      "mean     4871.556751        3.783055     65.328080               NaN   \n",
      "std      2795.116998        1.291044     50.636513               NaN   \n",
      "min         0.000000        0.000000      0.000000               NaN   \n",
      "25%      2453.000000        3.000000     27.000000               NaN   \n",
      "50%      4912.500000        4.000000     43.000000               NaN   \n",
      "75%      7300.750000        5.000000    102.000000               NaN   \n",
      "max      9638.000000        5.000000    168.000000               NaN   \n",
      "\n",
      "            category      priority  assignment_group   assigned_to  \\\n",
      "count   18590.000000  18590.000000      18590.000000  18590.000000   \n",
      "unique           NaN           NaN               NaN           NaN   \n",
      "top              NaN           NaN               NaN           NaN   \n",
      "freq             NaN           NaN               NaN           NaN   \n",
      "mean       28.080204      2.984992         26.664712     90.128080   \n",
      "std        11.682863      0.322453         17.298167     49.280413   \n",
      "min         0.000000      1.000000          0.000000      0.000000   \n",
      "25%        20.000000      3.000000         12.000000     54.000000   \n",
      "50%        28.000000      3.000000         20.000000     89.000000   \n",
      "75%        36.000000      3.000000         42.000000    132.000000   \n",
      "max        50.000000      4.000000         66.000000    173.000000   \n",
      "\n",
      "               closed_at  \n",
      "count              18590  \n",
      "unique              1443  \n",
      "top     24/03/2016 19:01  \n",
      "freq                 442  \n",
      "mean                 NaN  \n",
      "std                  NaN  \n",
      "min                  NaN  \n",
      "25%                  NaN  \n",
      "50%                  NaN  \n",
      "75%                  NaN  \n",
      "max                  NaN  \n"
     ]
    }
   ],
   "source": [
    "print(DatasetV4.shape)\n",
    "print(DatasetV4.describe(include='all'))"
   ]
  },
  {
   "cell_type": "markdown",
   "id": "d0eb1168",
   "metadata": {},
   "source": [
    "## Calcule du Temps de resolution"
   ]
  },
  {
   "cell_type": "code",
   "execution_count": 255,
   "id": "d1cbf2a8",
   "metadata": {},
   "outputs": [],
   "source": [
    "#weeb site ::: https://www.programiz.com/python-programming/datetime/strptime\n",
    "#we convert the format of date closing and opening incident using datetime object\n",
    "DatasetV4['closed_at'] = DatasetV4['closed_at'].apply(lambda x: datetime.strptime(x, '%d/%m/%Y %H:%M'))\n",
    "DatasetV4['opened_at'] = DatasetV4['opened_at'].apply(lambda x: datetime.strptime(x, '%d/%m/%Y %H:%M'))"
   ]
  },
  {
   "cell_type": "code",
   "execution_count": 256,
   "id": "a300547c",
   "metadata": {},
   "outputs": [],
   "source": [
    "#we calculate the time taken by each incident \n",
    "#calculates the difference between two dates\n",
    "DatasetV4['Time (min)']=DatasetV4['closed_at']-DatasetV4['opened_at']\n",
    "#converts the difference in terms of days\n",
    "DatasetV4['Time (min)']=DatasetV4['Time (min)']/np.timedelta64(1,'D')\n",
    "#time in minutes\n",
    "DatasetV4['Time (min)']=DatasetV4['Time (min)']*24*60"
   ]
  },
  {
   "cell_type": "code",
   "execution_count": 257,
   "id": "ebbe1ccc",
   "metadata": {},
   "outputs": [],
   "source": [
    "DatasetV5 = DatasetV4.drop(columns={'closed_at','opened_at'})"
   ]
  },
  {
   "cell_type": "code",
   "execution_count": 258,
   "id": "4d206310",
   "metadata": {},
   "outputs": [
    {
     "data": {
      "text/html": [
       "<div>\n",
       "<style scoped>\n",
       "    .dataframe tbody tr th:only-of-type {\n",
       "        vertical-align: middle;\n",
       "    }\n",
       "\n",
       "    .dataframe tbody tr th {\n",
       "        vertical-align: top;\n",
       "    }\n",
       "\n",
       "    .dataframe thead th {\n",
       "        text-align: right;\n",
       "    }\n",
       "</style>\n",
       "<table border=\"1\" class=\"dataframe\">\n",
       "  <thead>\n",
       "    <tr style=\"text-align: right;\">\n",
       "      <th></th>\n",
       "      <th>number</th>\n",
       "      <th>incident_state</th>\n",
       "      <th>opened_by</th>\n",
       "      <th>category</th>\n",
       "      <th>priority</th>\n",
       "      <th>assignment_group</th>\n",
       "      <th>assigned_to</th>\n",
       "      <th>Time (min)</th>\n",
       "    </tr>\n",
       "  </thead>\n",
       "  <tbody>\n",
       "    <tr>\n",
       "      <th>7</th>\n",
       "      <td>0</td>\n",
       "      <td>5</td>\n",
       "      <td>100</td>\n",
       "      <td>27</td>\n",
       "      <td>3</td>\n",
       "      <td>12</td>\n",
       "      <td>165</td>\n",
       "      <td>8960.0</td>\n",
       "    </tr>\n",
       "  </tbody>\n",
       "</table>\n",
       "</div>"
      ],
      "text/plain": [
       "   number  incident_state  opened_by  category  priority  assignment_group  \\\n",
       "7       0               5        100        27         3                12   \n",
       "\n",
       "   assigned_to  Time (min)  \n",
       "7          165      8960.0  "
      ]
     },
     "execution_count": 258,
     "metadata": {},
     "output_type": "execute_result"
    }
   ],
   "source": [
    "DatasetV5.head(1)"
   ]
  },
  {
   "cell_type": "code",
   "execution_count": 259,
   "id": "3e24a510",
   "metadata": {},
   "outputs": [
    {
     "name": "stdout",
     "output_type": "stream",
     "text": [
      "Int64Index([], dtype='int64')\n"
     ]
    }
   ],
   "source": [
    "nan_index = DatasetV4[DatasetV5['category'].isnull()].index\n",
    "print(nan_index)"
   ]
  },
  {
   "cell_type": "code",
   "execution_count": 260,
   "id": "002dc343",
   "metadata": {},
   "outputs": [
    {
     "name": "stdout",
     "output_type": "stream",
     "text": [
      "Int64Index([], dtype='int64')\n"
     ]
    }
   ],
   "source": [
    "nan_index = DatasetV5[DatasetV4['priority'].isnull()].index\n",
    "print(nan_index)"
   ]
  },
  {
   "cell_type": "code",
   "execution_count": 261,
   "id": "79df0556",
   "metadata": {},
   "outputs": [
    {
     "data": {
      "text/plain": [
       "array([27, 50, 38, 31, 12, 40, 24, 30, 11, 45, 46,  8, 28,  2, 49,  6, 32,\n",
       "       36, 29, 22, 14, 20, 23, 10, 41, 25, 48, 18,  5, 47, 42, 33, 16, 13,\n",
       "       26, 19, 39, 15, 21,  7,  4,  9, 43,  1, 37, 44,  0, 17, 35, 34,  3])"
      ]
     },
     "execution_count": 261,
     "metadata": {},
     "output_type": "execute_result"
    }
   ],
   "source": [
    "DatasetV5['category'].unique()"
   ]
  },
  {
   "cell_type": "code",
   "execution_count": 262,
   "id": "61e8a361",
   "metadata": {},
   "outputs": [
    {
     "data": {
      "text/plain": [
       "array([100,  30,  12, 102, 155, 110, 136, 101, 151,  49,  11,  68,  50,\n",
       "        43,  78,  92,  95,  35,  69,  48, 116, 140, 148, 165,  45,  70,\n",
       "         8,  26, 138,  46, 142,  53, 129,  39, 109, 115,  57, 139, 127,\n",
       "       137,  15,  34,  99,  98, 145, 146, 161, 122,  21,  86, 103,  88,\n",
       "         7,  29,  20, 164, 113,  36, 153,  27,   3,  87, 158,  71, 152,\n",
       "        94,  54,  33,  90, 121, 124, 106, 167,  66, 135,  97, 141,  28,\n",
       "       117, 160,  64, 168,  93,  25,   4,  51, 105,  65, 123, 157,  75,\n",
       "       154, 120,  74,  82,  63,  85,   0,   5, 163,  83, 128,  77, 144,\n",
       "        47, 125, 147,  55,  19,  10, 133,  31, 159, 130,  84,  76,  56,\n",
       "       166,  41, 108,   1,  38,  40,  80, 126,  89,  32, 134,  62,  59,\n",
       "        60,  42,  73,  16,  17,   6,  81,   9,   2,  37, 114, 132,  22,\n",
       "       131,  67,  14,  24,  44, 112, 118, 162,  13, 143,  18,  23, 150,\n",
       "        58,  91,  52, 119,  61, 111, 104, 156, 149,  72, 107,  79,  96])"
      ]
     },
     "execution_count": 262,
     "metadata": {},
     "output_type": "execute_result"
    }
   ],
   "source": [
    "DatasetV5['opened_by'].unique()"
   ]
  },
  {
   "cell_type": "code",
   "execution_count": 263,
   "id": "e54859a2",
   "metadata": {},
   "outputs": [
    {
     "data": {
      "text/plain": [
       "array([   0,    1,    2, ..., 9636, 9637, 9638])"
      ]
     },
     "execution_count": 263,
     "metadata": {},
     "output_type": "execute_result"
    }
   ],
   "source": [
    "DatasetV5['number'].unique()"
   ]
  },
  {
   "cell_type": "code",
   "execution_count": 264,
   "id": "b43fe5bf",
   "metadata": {},
   "outputs": [],
   "source": [
    "DatasetV5 = DatasetV5.drop(columns={'number'})"
   ]
  },
  {
   "cell_type": "code",
   "execution_count": 265,
   "id": "6fd54fe5",
   "metadata": {},
   "outputs": [
    {
     "name": "stdout",
     "output_type": "stream",
     "text": [
      "<class 'pandas.core.frame.DataFrame'>\n",
      "Int64Index: 18590 entries, 7 to 53761\n",
      "Data columns (total 7 columns):\n",
      " #   Column            Non-Null Count  Dtype  \n",
      "---  ------            --------------  -----  \n",
      " 0   incident_state    18590 non-null  int32  \n",
      " 1   opened_by         18590 non-null  int32  \n",
      " 2   category          18590 non-null  int32  \n",
      " 3   priority          18590 non-null  int32  \n",
      " 4   assignment_group  18590 non-null  int32  \n",
      " 5   assigned_to       18590 non-null  int32  \n",
      " 6   Time (min)        18590 non-null  float64\n",
      "dtypes: float64(1), int32(6)\n",
      "memory usage: 726.2 KB\n"
     ]
    }
   ],
   "source": [
    "DatasetV5.info()"
   ]
  },
  {
   "cell_type": "code",
   "execution_count": 266,
   "id": "8d7189aa",
   "metadata": {},
   "outputs": [
    {
     "data": {
      "text/html": [
       "<div>\n",
       "<style scoped>\n",
       "    .dataframe tbody tr th:only-of-type {\n",
       "        vertical-align: middle;\n",
       "    }\n",
       "\n",
       "    .dataframe tbody tr th {\n",
       "        vertical-align: top;\n",
       "    }\n",
       "\n",
       "    .dataframe thead th {\n",
       "        text-align: right;\n",
       "    }\n",
       "</style>\n",
       "<table border=\"1\" class=\"dataframe\">\n",
       "  <thead>\n",
       "    <tr style=\"text-align: right;\">\n",
       "      <th></th>\n",
       "      <th>incident_state</th>\n",
       "      <th>opened_by</th>\n",
       "      <th>category</th>\n",
       "      <th>priority</th>\n",
       "      <th>assignment_group</th>\n",
       "      <th>assigned_to</th>\n",
       "      <th>Time (min)</th>\n",
       "    </tr>\n",
       "  </thead>\n",
       "  <tbody>\n",
       "    <tr>\n",
       "      <th>7</th>\n",
       "      <td>5</td>\n",
       "      <td>100</td>\n",
       "      <td>27</td>\n",
       "      <td>3</td>\n",
       "      <td>12</td>\n",
       "      <td>165</td>\n",
       "      <td>8960.0</td>\n",
       "    </tr>\n",
       "    <tr>\n",
       "      <th>8</th>\n",
       "      <td>3</td>\n",
       "      <td>100</td>\n",
       "      <td>27</td>\n",
       "      <td>3</td>\n",
       "      <td>12</td>\n",
       "      <td>165</td>\n",
       "      <td>8960.0</td>\n",
       "    </tr>\n",
       "    <tr>\n",
       "      <th>11</th>\n",
       "      <td>5</td>\n",
       "      <td>30</td>\n",
       "      <td>50</td>\n",
       "      <td>3</td>\n",
       "      <td>13</td>\n",
       "      <td>17</td>\n",
       "      <td>10462.0</td>\n",
       "    </tr>\n",
       "    <tr>\n",
       "      <th>12</th>\n",
       "      <td>3</td>\n",
       "      <td>30</td>\n",
       "      <td>50</td>\n",
       "      <td>3</td>\n",
       "      <td>13</td>\n",
       "      <td>17</td>\n",
       "      <td>10462.0</td>\n",
       "    </tr>\n",
       "  </tbody>\n",
       "</table>\n",
       "</div>"
      ],
      "text/plain": [
       "    incident_state  opened_by  category  priority  assignment_group  \\\n",
       "7                5        100        27         3                12   \n",
       "8                3        100        27         3                12   \n",
       "11               5         30        50         3                13   \n",
       "12               3         30        50         3                13   \n",
       "\n",
       "    assigned_to  Time (min)  \n",
       "7           165      8960.0  \n",
       "8           165      8960.0  \n",
       "11           17     10462.0  \n",
       "12           17     10462.0  "
      ]
     },
     "execution_count": 266,
     "metadata": {},
     "output_type": "execute_result"
    }
   ],
   "source": [
    "DatasetV5.head(4)"
   ]
  },
  {
   "cell_type": "code",
   "execution_count": 267,
   "id": "71861022",
   "metadata": {},
   "outputs": [],
   "source": [
    "dataset_temp = DatasetV5.loc[:, DatasetV5.columns != 'Time (min)'] "
   ]
  },
  {
   "cell_type": "code",
   "execution_count": 268,
   "id": "792a4105",
   "metadata": {},
   "outputs": [
    {
     "data": {
      "text/html": [
       "<div>\n",
       "<style scoped>\n",
       "    .dataframe tbody tr th:only-of-type {\n",
       "        vertical-align: middle;\n",
       "    }\n",
       "\n",
       "    .dataframe tbody tr th {\n",
       "        vertical-align: top;\n",
       "    }\n",
       "\n",
       "    .dataframe thead th {\n",
       "        text-align: right;\n",
       "    }\n",
       "</style>\n",
       "<table border=\"1\" class=\"dataframe\">\n",
       "  <thead>\n",
       "    <tr style=\"text-align: right;\">\n",
       "      <th></th>\n",
       "      <th>incident_state</th>\n",
       "      <th>opened_by</th>\n",
       "      <th>category</th>\n",
       "      <th>priority</th>\n",
       "      <th>assignment_group</th>\n",
       "      <th>assigned_to</th>\n",
       "    </tr>\n",
       "  </thead>\n",
       "  <tbody>\n",
       "    <tr>\n",
       "      <th>incident_state</th>\n",
       "      <td>1.000000</td>\n",
       "      <td>-0.031585</td>\n",
       "      <td>0.070988</td>\n",
       "      <td>-0.002394</td>\n",
       "      <td>-0.199780</td>\n",
       "      <td>0.084185</td>\n",
       "    </tr>\n",
       "    <tr>\n",
       "      <th>opened_by</th>\n",
       "      <td>-0.031585</td>\n",
       "      <td>1.000000</td>\n",
       "      <td>-0.022880</td>\n",
       "      <td>-0.080935</td>\n",
       "      <td>-0.033844</td>\n",
       "      <td>-0.061887</td>\n",
       "    </tr>\n",
       "    <tr>\n",
       "      <th>category</th>\n",
       "      <td>0.070988</td>\n",
       "      <td>-0.022880</td>\n",
       "      <td>1.000000</td>\n",
       "      <td>-0.011147</td>\n",
       "      <td>-0.042515</td>\n",
       "      <td>0.008891</td>\n",
       "    </tr>\n",
       "    <tr>\n",
       "      <th>priority</th>\n",
       "      <td>-0.002394</td>\n",
       "      <td>-0.080935</td>\n",
       "      <td>-0.011147</td>\n",
       "      <td>1.000000</td>\n",
       "      <td>0.025726</td>\n",
       "      <td>0.025741</td>\n",
       "    </tr>\n",
       "    <tr>\n",
       "      <th>assignment_group</th>\n",
       "      <td>-0.199780</td>\n",
       "      <td>-0.033844</td>\n",
       "      <td>-0.042515</td>\n",
       "      <td>0.025726</td>\n",
       "      <td>1.000000</td>\n",
       "      <td>-0.067534</td>\n",
       "    </tr>\n",
       "    <tr>\n",
       "      <th>assigned_to</th>\n",
       "      <td>0.084185</td>\n",
       "      <td>-0.061887</td>\n",
       "      <td>0.008891</td>\n",
       "      <td>0.025741</td>\n",
       "      <td>-0.067534</td>\n",
       "      <td>1.000000</td>\n",
       "    </tr>\n",
       "  </tbody>\n",
       "</table>\n",
       "</div>"
      ],
      "text/plain": [
       "                  incident_state  opened_by  category  priority  \\\n",
       "incident_state          1.000000  -0.031585  0.070988 -0.002394   \n",
       "opened_by              -0.031585   1.000000 -0.022880 -0.080935   \n",
       "category                0.070988  -0.022880  1.000000 -0.011147   \n",
       "priority               -0.002394  -0.080935 -0.011147  1.000000   \n",
       "assignment_group       -0.199780  -0.033844 -0.042515  0.025726   \n",
       "assigned_to             0.084185  -0.061887  0.008891  0.025741   \n",
       "\n",
       "                  assignment_group  assigned_to  \n",
       "incident_state           -0.199780     0.084185  \n",
       "opened_by                -0.033844    -0.061887  \n",
       "category                 -0.042515     0.008891  \n",
       "priority                  0.025726     0.025741  \n",
       "assignment_group          1.000000    -0.067534  \n",
       "assigned_to              -0.067534     1.000000  "
      ]
     },
     "execution_count": 268,
     "metadata": {},
     "output_type": "execute_result"
    }
   ],
   "source": [
    "corr = dataset_temp.corr()\n",
    "corr"
   ]
  },
  {
   "cell_type": "code",
   "execution_count": 269,
   "id": "ef27afa6",
   "metadata": {},
   "outputs": [
    {
     "data": {
      "image/png": "[encoded data removed]",
      "text/plain": [
       "<Figure size 864x720 with 2 Axes>"
      ]
     },
     "metadata": {
      "needs_background": "light"
     },
     "output_type": "display_data"
    }
   ],
   "source": [
    "#feature selection using correlation\n",
    "#web site :::: https://www.youtube.com/watch?v=FndwYNcVe0U&ab_channel=KrishNaik\n",
    "\n",
    "plt.figure(figsize=(12,10))\n",
    "sns.heatmap(corr,annot=True,cmap=plt.cm.CMRmap_r)\n",
    "plt.show()\n",
    "\n",
    "#see the size echanttionnage taken"
   ]
  },
  {
   "cell_type": "markdown",
   "id": "9a6fd4ef",
   "metadata": {},
   "source": [
    "## Splitting the dataset into the Training set and Test set"
   ]
  },
  {
   "cell_type": "code",
   "execution_count": 270,
   "id": "098ebe75",
   "metadata": {},
   "outputs": [
    {
     "data": {
      "text/plain": [
       "Index(['incident_state', 'opened_by', 'category', 'priority',\n",
       "       'assignment_group', 'assigned_to', 'Time (min)'],\n",
       "      dtype='object')"
      ]
     },
     "execution_count": 270,
     "metadata": {},
     "output_type": "execute_result"
    }
   ],
   "source": [
    "DatasetV5.columns"
   ]
  },
  {
   "cell_type": "code",
   "execution_count": 271,
   "id": "6e533796",
   "metadata": {},
   "outputs": [
    {
     "name": "stdout",
     "output_type": "stream",
     "text": [
      "       incident_state  opened_by  category  priority  assignment_group  \\\n",
      "7                   5        100        27         3                12   \n",
      "8                   3        100        27         3                12   \n",
      "11                  5         30        50         3                13   \n",
      "12                  3         30        50         3                13   \n",
      "19                  5         12        38         3                16   \n",
      "...               ...        ...       ...       ...               ...   \n",
      "53753               3         69         3         3                 8   \n",
      "53755               5         96        31         3                10   \n",
      "53756               3         96        31         3                10   \n",
      "53760               5         24        19         3                12   \n",
      "53761               3         24        19         3                12   \n",
      "\n",
      "       assigned_to  \n",
      "7              165  \n",
      "8              165  \n",
      "11              17  \n",
      "12              17  \n",
      "19             158  \n",
      "...            ...  \n",
      "53753          169  \n",
      "53755          141  \n",
      "53756          141  \n",
      "53760           91  \n",
      "53761           91  \n",
      "\n",
      "[18590 rows x 6 columns]\n"
     ]
    }
   ],
   "source": [
    "from sklearn.model_selection import train_test_split\n",
    "X = DatasetV5.loc[:, DatasetV5.columns != 'Time (min)']\n",
    "y = DatasetV5.loc[:,DatasetV5.columns == 'Time (min)']\n",
    "\n",
    "print(X)\n",
    "#field test_size=0.7,random_state = 0 \n",
    "\n",
    "X_train, X_test, y_train, y_test = train_test_split(X, y, test_size = 1/3,random_state = 0)"
   ]
  },
  {
   "cell_type": "code",
   "execution_count": 272,
   "id": "c9163bd9",
   "metadata": {},
   "outputs": [
    {
     "name": "stdout",
     "output_type": "stream",
     "text": [
      "X_train dataset:  (12393, 6)\n",
      "y_train dataset:  (12393, 1)\n",
      "X_test dataset:  (6197, 6)\n",
      "y_test dataset:  (6197, 1)\n"
     ]
    }
   ],
   "source": [
    "#display the time of prediction \n",
    "print(\"X_train dataset: \", X_train.shape) \n",
    "print(\"y_train dataset: \", y_train.shape) \n",
    "print(\"X_test dataset: \", X_test.shape) \n",
    "print(\"y_test dataset: \", y_test.shape)"
   ]
  },
  {
   "cell_type": "code",
   "execution_count": 273,
   "id": "edff78f6",
   "metadata": {},
   "outputs": [],
   "source": [
    "#get better balance between classes\n",
    "# web site ::: https://www.youtube.com/watch?v=YMPMZmlH5Bo&ab_channel=KrishNaik\n",
    "#we should have many classes for time resolution so for the first time we go without balancing to see the defference in term of predection  \n"
   ]
  },
  {
   "cell_type": "markdown",
   "id": "815bd5f0",
   "metadata": {},
   "source": [
    "## Training the simple Linear Regression model on the Training set"
   ]
  },
  {
   "cell_type": "code",
   "execution_count": 274,
   "id": "ba002a56",
   "metadata": {},
   "outputs": [
    {
     "data": {
      "text/plain": [
       "LinearRegression()"
      ]
     },
     "execution_count": 274,
     "metadata": {},
     "output_type": "execute_result"
    }
   ],
   "source": [
    "#web site ::: https://www.youtube.com/watch?v=wTF6vzS9fy4&ab_channel=KrishNaik\n",
    "\n",
    "from sklearn.linear_model import LinearRegression\n",
    "\n",
    "reg = LinearRegression()\n",
    "reg.fit(X_train, y_train)\n",
    "#print(reg.score(X_train, y_train))\n",
    "#print(reg.score(X_test, y_test))\n",
    "#display "
   ]
  },
  {
   "cell_type": "markdown",
   "id": "6588c389",
   "metadata": {},
   "source": [
    "try with all attributs "
   ]
  },
  {
   "cell_type": "markdown",
   "id": "046aa46d",
   "metadata": {},
   "source": [
    "# MAPE = (1/n) * Σ(|actual – prediction| / |actual|) * 100"
   ]
  },
  {
   "cell_type": "code",
   "execution_count": 275,
   "id": "19cc1b23",
   "metadata": {},
   "outputs": [],
   "source": [
    "def mape(actual, pred): \n",
    "    actual, pred = np.array(actual), np.array(pred)\n",
    "    return np.mean(np.abs((actual - pred) / actual)) * 100"
   ]
  },
  {
   "cell_type": "code",
   "execution_count": 276,
   "id": "84abb630",
   "metadata": {},
   "outputs": [
    {
     "data": {
      "text/plain": [
       "360.5359162093765"
      ]
     },
     "execution_count": 276,
     "metadata": {},
     "output_type": "execute_result"
    }
   ],
   "source": [
    "pred_=reg.predict(X_test)\n",
    "#print(pred_)\n",
    "mape(y_test,pred_)"
   ]
  },
  {
   "cell_type": "code",
   "execution_count": 277,
   "id": "d452138d",
   "metadata": {},
   "outputs": [
    {
     "name": "stdout",
     "output_type": "stream",
     "text": [
      "[[ 41552.]\n",
      " [  9079.]\n",
      " [184354.]\n",
      " ...\n",
      " [ 10509.]\n",
      " [ 20629.]\n",
      " [ 22017.]]\n"
     ]
    }
   ],
   "source": [
    "y_testa=np.array(y_test)\n",
    "print(y_testa)\n"
   ]
  },
  {
   "cell_type": "code",
   "execution_count": 278,
   "id": "a8bde6d2",
   "metadata": {},
   "outputs": [
    {
     "name": "stdout",
     "output_type": "stream",
     "text": [
      "(6197, 1)\n"
     ]
    }
   ],
   "source": [
    "print(y_test.shape)"
   ]
  },
  {
   "cell_type": "code",
   "execution_count": 279,
   "id": "b80ebc66",
   "metadata": {},
   "outputs": [
    {
     "name": "stdout",
     "output_type": "stream",
     "text": [
      "[[ 24871.24  41552.  ]\n",
      " [ 23985.24   9079.  ]\n",
      " [ 25863.81 184354.  ]\n",
      " ...\n",
      " [ 21716.82  10509.  ]\n",
      " [ 26293.76  20629.  ]\n",
      " [ 25668.71  22017.  ]]\n"
     ]
    }
   ],
   "source": [
    "y_pred = reg.predict(X_test)\n",
    "y_testt=np.array(y_test)\n",
    "np.set_printoptions(precision=2)\n",
    "print(np.concatenate((y_pred.reshape(len(y_pred),1), y_testt.reshape(len(y_testt),1)),1))"
   ]
  },
  {
   "cell_type": "markdown",
   "id": "f6e755e8",
   "metadata": {},
   "source": [
    "# Visualization"
   ]
  },
  {
   "cell_type": "code",
   "execution_count": 280,
   "id": "21831f21",
   "metadata": {},
   "outputs": [
    {
     "name": "stdout",
     "output_type": "stream",
     "text": [
      "Cross-validation scores: [ 0.  0.  0. -0.  0.]\n",
      "Average cross-validation score: 0.0018\n"
     ]
    }
   ],
   "source": [
    "#Linear Cross-validation score\n",
    "from sklearn.model_selection import cross_val_score\n",
    "\n",
    "reg = LinearRegression()\n",
    "\n",
    "scores = cross_val_score(reg, X_train,y_train)\n",
    "print(\"Cross-validation scores: {}\".format(scores))\n",
    "print(\"Average cross-validation score: {:.4f}\".format(scores.mean()))"
   ]
  },
  {
   "cell_type": "code",
   "execution_count": 281,
   "id": "30c3e082",
   "metadata": {},
   "outputs": [
    {
     "name": "stdout",
     "output_type": "stream",
     "text": [
      "<class 'pandas.core.frame.DataFrame'>\n",
      "Int64Index: 12393 entries, 7989 to 8921\n",
      "Data columns (total 6 columns):\n",
      " #   Column            Non-Null Count  Dtype\n",
      "---  ------            --------------  -----\n",
      " 0   incident_state    12393 non-null  int32\n",
      " 1   opened_by         12393 non-null  int32\n",
      " 2   category          12393 non-null  int32\n",
      " 3   priority          12393 non-null  int32\n",
      " 4   assignment_group  12393 non-null  int32\n",
      " 5   assigned_to       12393 non-null  int32\n",
      "dtypes: int32(6)\n",
      "memory usage: 387.3 KB\n"
     ]
    }
   ],
   "source": [
    "X_train.info()"
   ]
  },
  {
   "cell_type": "code",
   "execution_count": 282,
   "id": "cf9b04ec",
   "metadata": {},
   "outputs": [
    {
     "name": "stdout",
     "output_type": "stream",
     "text": [
      "<class 'pandas.core.frame.DataFrame'>\n",
      "Int64Index: 12393 entries, 7989 to 8921\n",
      "Data columns (total 1 columns):\n",
      " #   Column      Non-Null Count  Dtype  \n",
      "---  ------      --------------  -----  \n",
      " 0   Time (min)  12393 non-null  float64\n",
      "dtypes: float64(1)\n",
      "memory usage: 193.6 KB\n"
     ]
    }
   ],
   "source": [
    "y_train.info()"
   ]
  },
  {
   "cell_type": "markdown",
   "id": "e7270bce",
   "metadata": {},
   "source": [
    "## GradientBoostingRegressor"
   ]
  },
  {
   "cell_type": "code",
   "execution_count": 283,
   "id": "151d82f6",
   "metadata": {},
   "outputs": [
    {
     "name": "stderr",
     "output_type": "stream",
     "text": [
      "C:\\Users\\melho\\AppData\\Local\\Programs\\Python\\Python36\\lib\\site-packages\\sklearn\\utils\\validation.py:63: DataConversionWarning: A column-vector y was passed when a 1d array was expected. Please change the shape of y to (n_samples, ), for example using ravel().\n",
      "  return f(*args, **kwargs)\n"
     ]
    }
   ],
   "source": [
    "\n",
    "from sklearn.ensemble import GradientBoostingRegressor\n",
    "regressor = GradientBoostingRegressor()\n",
    "regressor.fit(X_train, y_train)\n",
    "score=regressor.score(X_test,y_test)"
   ]
  },
  {
   "cell_type": "code",
   "execution_count": 284,
   "id": "fe0dd56b",
   "metadata": {},
   "outputs": [
    {
     "data": {
      "text/plain": [
       "359.4839072661116"
      ]
     },
     "execution_count": 284,
     "metadata": {},
     "output_type": "execute_result"
    }
   ],
   "source": [
    "pred_=regressor.predict(X_test)\n",
    "#print(pred_)\n",
    "mape(y_test,pred_)"
   ]
  },
  {
   "cell_type": "markdown",
   "id": "272a0b20",
   "metadata": {},
   "source": [
    "## RandomForestRegressor"
   ]
  },
  {
   "cell_type": "code",
   "execution_count": 285,
   "id": "a69fd778",
   "metadata": {},
   "outputs": [
    {
     "name": "stderr",
     "output_type": "stream",
     "text": [
      "C:\\Users\\melho\\AppData\\Roaming\\Python\\Python36\\site-packages\\ipykernel_launcher.py:5: DataConversionWarning: A column-vector y was passed when a 1d array was expected. Please change the shape of y to (n_samples,), for example using ravel().\n",
      "  \"\"\"\n"
     ]
    },
    {
     "data": {
      "text/plain": [
       "0.5085160553238774"
      ]
     },
     "execution_count": 285,
     "metadata": {},
     "output_type": "execute_result"
    }
   ],
   "source": [
    "from sklearn.model_selection import GridSearchCV\n",
    "from sklearn.ensemble import RandomForestRegressor\n",
    "hyperparametres = { 'n_estimators':20 }\n",
    "regressor = RandomForestRegressor(**hyperparametres)\n",
    "regressor.fit(X_train,y_train)\n",
    "score=regressor.score(X_test,y_test)\n",
    "score"
   ]
  },
  {
   "cell_type": "code",
   "execution_count": 286,
   "id": "bcd4a9b4",
   "metadata": {},
   "outputs": [
    {
     "data": {
      "text/plain": [
       "382.1104077048916"
      ]
     },
     "execution_count": 286,
     "metadata": {},
     "output_type": "execute_result"
    }
   ],
   "source": [
    "pred_=regressor.predict(X_test)\n",
    "#print(pred_)\n",
    "mape(y_test,pred_)"
   ]
  },
  {
   "cell_type": "markdown",
   "id": "d2515dc6",
   "metadata": {},
   "source": [
    "## Tree Decision Regressor"
   ]
  },
  {
   "cell_type": "code",
   "execution_count": 287,
   "id": "a0760585",
   "metadata": {},
   "outputs": [
    {
     "data": {
      "text/plain": [
       "0.3382219295165839"
      ]
     },
     "execution_count": 287,
     "metadata": {},
     "output_type": "execute_result"
    }
   ],
   "source": [
    "from sklearn import preprocessing\n",
    "from sklearn.tree import DecisionTreeRegressor\n",
    "regressor = DecisionTreeRegressor(random_state=0, max_depth=6)\n",
    "regressor.fit(X, y)\n",
    "score=regressor.score(X_test,y_test)\n",
    "score"
   ]
  },
  {
   "cell_type": "code",
   "execution_count": 288,
   "id": "77c2ea52",
   "metadata": {},
   "outputs": [
    {
     "data": {
      "text/plain": [
       "363.2277492408045"
      ]
     },
     "execution_count": 288,
     "metadata": {},
     "output_type": "execute_result"
    }
   ],
   "source": [
    "pred_=regressor.predict(X_test)\n",
    "#print(pred_)\n",
    "mape(y_test,pred_)"
   ]
  },
  {
   "cell_type": "code",
   "execution_count": 289,
   "id": "17088997",
   "metadata": {},
   "outputs": [],
   "source": [
    "%matplotlib inline\n",
    "import matplotlib.pyplot as plt\n",
    "\n",
    "X_train_rm = X_train\n",
    "reg.fit(X_train_rm, y_train)\n",
    "y_predict = reg.predict(X_train_rm)\n"
   ]
  },
  {
   "cell_type": "code",
   "execution_count": 290,
   "id": "d5bcbe6d",
   "metadata": {},
   "outputs": [
    {
     "data": {
      "image/png": "[encoded data removed]",
      "text/plain": [
       "<Figure size 432x288 with 1 Axes>"
      ]
     },
     "metadata": {
      "needs_background": "light"
     },
     "output_type": "display_data"
    }
   ],
   "source": [
    "# Visualize the Data for Linear Regression\n",
    "fig = plt.figure()\n",
    "ax = fig.add_subplot(111, projection='3d')\n"
   ]
  },
  {
   "cell_type": "code",
   "execution_count": 291,
   "id": "8e2fed96",
   "metadata": {},
   "outputs": [],
   "source": [
    "#Encoding categorical data converting all objects into numeric forms\n",
    "#ct = ColumnTransformer(transformers=[('encoder', OneHotEncoder(), [3])], remainder='passthrough')\n",
    "#X = np.array(ct.fit_transform(datasetV4))"
   ]
  },
  {
   "cell_type": "code",
   "execution_count": null,
   "id": "c47e7919",
   "metadata": {},
   "outputs": [],
   "source": []
  },
  {
   "cell_type": "code",
   "execution_count": 292,
   "id": "c33ad456",
   "metadata": {},
   "outputs": [],
   "source": [
    "#encoding \n",
    "#datasetV5[\"priority\"].unique()"
   ]
  },
  {
   "cell_type": "code",
   "execution_count": 293,
   "id": "df815ebb",
   "metadata": {},
   "outputs": [],
   "source": [
    "#datasetV5[\"category\"].unique()"
   ]
  },
  {
   "cell_type": "code",
   "execution_count": 294,
   "id": "ad8a589d",
   "metadata": {},
   "outputs": [],
   "source": [
    "#we need to calculate the time of resolution of each incident \n",
    "#lets get the first version of data \n"
   ]
  },
  {
   "cell_type": "code",
   "execution_count": null,
   "id": "31418d05",
   "metadata": {},
   "outputs": [],
   "source": []
  },
  {
   "cell_type": "code",
   "execution_count": null,
   "id": "f339beb8",
   "metadata": {},
   "outputs": [],
   "source": []
  }
 ],
 "metadata": {
  "interpreter": {
   "hash": "a90122da8a5d468b747afeeb99a4c2d86bc3fba529b7cf6a4253c5c7752645f3"
  },
  "kernelspec": {
   "display_name": "Python 3",
   "language": "python",
   "name": "python3"
  },
  "language_info": {
   "codemirror_mode": {
    "name": "ipython",
    "version": 3
   },
   "file_extension": ".py",
   "mimetype": "text/x-python",
   "name": "python",
   "nbconvert_exporter": "python",
   "pygments_lexer": "ipython3",
   "version": "3.6.8"
  }
 },
 "nbformat": 4,
 "nbformat_minor": 5
}
